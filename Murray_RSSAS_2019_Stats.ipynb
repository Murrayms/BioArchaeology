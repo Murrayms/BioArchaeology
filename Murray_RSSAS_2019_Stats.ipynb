{
 "cells": [
  {
   "cell_type": "code",
   "execution_count": 2,
   "metadata": {},
   "outputs": [],
   "source": [
    "\"\"\"\n",
    "Michael Murray 2019 RSSAS\n",
    "Pig Teeth Stats\n",
    "6/12/2019\n",
    "\"\"\"\n",
    "import scipy.stats as scs\n",
    "import pandas as pd\n",
    "import numpy as np\n",
    "import matplotlib.pyplot as plt\n",
    "import matplotlib.mlab as mlab"
   ]
  },
  {
   "cell_type": "code",
   "execution_count": 3,
   "metadata": {},
   "outputs": [],
   "source": [
    "\"\"\"there are three meso sites, Can assume they are from the same pop?\"\"\"\n",
    "Sludegaard = [18.0,17.0,16.6,15.7,18.0,17.2,15.5,15.9,16.2,15.6]\n",
    "Bloksbjerg = [17.5,18.3,16.9,16.8,18.2,14.6,14.5,16.7,17.3]\n",
    "Nivaa = [17.0,18.6,17.3,16.5]"
   ]
  },
  {
   "cell_type": "code",
   "execution_count": 4,
   "metadata": {},
   "outputs": [
    {
     "data": {
      "image/png": "[encoded data removed]",
      "text/plain": [
       "<Figure size 432x288 with 1 Axes>"
      ]
     },
     "metadata": {
      "needs_background": "light"
     },
     "output_type": "display_data"
    },
    {
     "data": {
      "text/plain": [
       "\"There's a fair amount of overlap\""
      ]
     },
     "execution_count": 4,
     "metadata": {},
     "output_type": "execute_result"
    }
   ],
   "source": [
    "boxplotdata = [Sludegaard, Bloksbjerg, Nivaa]\n",
    "plt.boxplot(boxplotdata,notch = True , labels=['Sludegaard','Bloksbjerg','Nivaa'])\n",
    "plt.show()\n",
    "\n",
    "\"\"\"There's a fair amount of overlap\"\"\""
   ]
  },
  {
   "cell_type": "code",
   "execution_count": 5,
   "metadata": {},
   "outputs": [
    {
     "data": {
      "image/png": "[encoded data removed]",
      "text/plain": [
       "<Figure size 432x288 with 1 Axes>"
      ]
     },
     "metadata": {
      "needs_background": "light"
     },
     "output_type": "display_data"
    }
   ],
   "source": [
    "bins = np.linspace(15, 19, 20)\n",
    "\n",
    "plt.hist(Sludegaard, bins, alpha=0.5, label='Sludegaard')\n",
    "plt.hist(Bloksbjerg, bins, alpha=0.5, label='Bloksbjerg')\n",
    "plt.hist(Nivaa, bins, alpha=0.5, label='Nivaa')\n",
    "\n",
    "plt.legend(loc='lower right')\n",
    "plt.xlabel('MTL in mm')\n",
    "plt.ylabel('Occurrences')\n",
    "\n",
    "plt.show()"
   ]
  },
  {
   "cell_type": "code",
   "execution_count": 6,
   "metadata": {},
   "outputs": [
    {
     "name": "stdout",
     "output_type": "stream",
     "text": [
      "Sludegaard\n",
      "(0.8975198268890381, 0.20573464035987854)\n",
      "\n",
      "Bloksbjerg\n",
      "(0.8642817139625549, 0.10670509189367294)\n",
      "\n",
      "Nivaa\n",
      "(0.9251095652580261, 0.5659627914428711)\n",
      "\n",
      "Can not reject null hypothosis of normality for any of these samples\n"
     ]
    }
   ],
   "source": [
    "\"\"\"Testing the Mesolithics\n",
    "first normality \n",
    "we're using sapiro since these are smaller samples baring chi^2 and shapiro is unconstrained by sample size\"\"\"\n",
    "\n",
    "print(\"Sludegaard\")\n",
    "print(scs.shapiro(Sludegaard))\n",
    "print()\n",
    "print(\"Bloksbjerg\")\n",
    "print(scs.shapiro(Bloksbjerg))\n",
    "print()\n",
    "print(\"Nivaa\")\n",
    "print(scs.shapiro(Nivaa))\n",
    "print()\n",
    "print(\"Can not reject null hypothosis of normality for any of these samples\")"
   ]
  },
  {
   "cell_type": "code",
   "execution_count": 7,
   "metadata": {},
   "outputs": [
    {
     "name": "stdout",
     "output_type": "stream",
     "text": [
      "Sludegaard & Nivaa\n",
      "Ttest_indResult(statistic=-1.4087346130859575, pvalue=0.18429440175984865)\n",
      "\n",
      "Bloksbjerg & Sludegaard\n",
      "Ttest_indResult(statistic=0.3458246750755544, pvalue=0.7337171816404795)\n",
      "\n",
      "Nivaa & Bloksbjerg\n",
      "Ttest_indResult(statistic=0.7844489687048012, pvalue=0.44934034588334915)\n",
      "\n",
      "Can not reject null equal mean of normality for any of these samples\n"
     ]
    }
   ],
   "source": [
    "\"\"\"having checked for abnormality we now can test for equal mean.\n",
    "since here we believe these samples to have been taken from the same population \n",
    "we are using a standard students T test (no concern of different variations)\n",
    "we'll do a round robin\"\"\"\n",
    "\n",
    "print(\"Sludegaard & Nivaa\")\n",
    "print(scs.ttest_ind(Sludegaard, Nivaa, equal_var=True))\n",
    "print()\n",
    "print(\"Bloksbjerg & Sludegaard\")\n",
    "print(scs.ttest_ind(Bloksbjerg, Sludegaard, equal_var=True))\n",
    "print()\n",
    "print(\"Nivaa & Bloksbjerg\")\n",
    "print(scs.ttest_ind(Nivaa, Bloksbjerg, equal_var=True))\n",
    "print()\n",
    "print(\"Can not reject null equal mean of normality for any of these samples\")"
   ]
  },
  {
   "cell_type": "code",
   "execution_count": 8,
   "metadata": {},
   "outputs": [
    {
     "name": "stdout",
     "output_type": "stream",
     "text": [
      "Sludegaard & Nivaa\n",
      "0.5\n",
      "0.4095904095904096\n",
      "\n",
      "Bloksbjerg & Sludegaard\n",
      "0.37777777777777777\n",
      "0.3925826495485938\n",
      "\n",
      "Nivaa & Bloksbjerg\n",
      "0.3055555555555556\n",
      "0.8867132867132868\n",
      "In a round robin of KS test we have failed to prove\n",
      "that these samples are not part of the same distribution\n"
     ]
    }
   ],
   "source": [
    "\"\"\"so we can't prove they don't share a mean and we can't proove they arn't all part of the same dist.\n",
    "do we need to show that we can't prove they arn't part of the same dist? possibly excessive\"\"\"\n",
    "\n",
    "kStatA,KpA = scs.ks_2samp(Sludegaard, Nivaa)\n",
    "print(\"Sludegaard & Nivaa\")\n",
    "print(kStatA)\n",
    "print(KpA)\n",
    "print()\n",
    "\n",
    "kStatB,KpB = scs.ks_2samp(Bloksbjerg, Sludegaard)\n",
    "print(\"Bloksbjerg & Sludegaard\")\n",
    "print(kStatB)\n",
    "print(KpB)\n",
    "print()\n",
    "\n",
    "kStatC,KpC = scs.ks_2samp(Nivaa, Bloksbjerg)\n",
    "print(\"Nivaa & Bloksbjerg\")\n",
    "print(kStatC)\n",
    "print(KpC)\n",
    "\n",
    "print(\"In a round robin of KS test we have failed to prove\")\n",
    "print(\"that these samples are not part of the same distribution\")"
   ]
  },
  {
   "cell_type": "code",
   "execution_count": 9,
   "metadata": {},
   "outputs": [
    {
     "name": "stdout",
     "output_type": "stream",
     "text": [
      "We can not say that these samples all represnt the same population of pigs\n",
      "that being said having failed to prove that they are different we shall not merge them into\n",
      "a combined mesolithic populaiton to compare with out neolithic population\n"
     ]
    },
    {
     "data": {
      "image/png": "[encoded data removed]",
      "text/plain": [
       "<Figure size 432x288 with 1 Axes>"
      ]
     },
     "metadata": {
      "needs_background": "light"
     },
     "output_type": "display_data"
    }
   ],
   "source": [
    "mesoLith = Sludegaard+Bloksbjerg+Nivaa\n",
    "print(\"We can not say that these samples all represnt the same population of pigs\")\n",
    "print(\"that being said having failed to prove that they are different we shall not merge them into\")\n",
    "print(\"a combined mesolithic populaiton to compare with out neolithic population\")\n",
    "boxplotdata = [Sludegaard, Bloksbjerg, Nivaa, mesoLith]\n",
    "plt.boxplot(boxplotdata,notch = True , labels=['Sludegaard','Bloksbjerg','Nivaa','Combined'])\n",
    "plt.show()"
   ]
  },
  {
   "cell_type": "code",
   "execution_count": 10,
   "metadata": {},
   "outputs": [],
   "source": [
    "\"\"\"Combinding the mesolithic site for comparison with the Neolithic\"\"\"\n",
    "neoLith = [13.0,13.2,13.2,13.3,13.5,13.5,13.6,13.6,13.6,13.7,13.8,13.8,13.9,13.9,13.9,13.9,14.0,14.0,14.0,14.0,14.1,14.1,14.2,14.2,14.2,14.2,14.2,14.2,14.2,14.3,14.3,14.4,14.5,14.6,14.6,14.6,14.7,14.9,15.0,15.0,15.1,15.1,15.2,15.3,15.4,15.6,16.1]\n",
    "\n",
    "neo = pd.DataFrame(neoLith)\n",
    "meso = pd.DataFrame(mesoLith)"
   ]
  },
  {
   "cell_type": "code",
   "execution_count": 11,
   "metadata": {},
   "outputs": [
    {
     "name": "stdout",
     "output_type": "stream",
     "text": [
      "Neolithic Summary Stats:\n",
      "               0\n",
      "count  47.000000\n",
      "mean   14.248936\n",
      "std     0.672398\n",
      "min    13.000000\n",
      "25%    13.850000\n",
      "50%    14.200000\n",
      "75%    14.600000\n",
      "max    16.100000\n",
      "\n",
      "Mesolithic Summary Stats:\n",
      "               0\n",
      "count  23.000000\n",
      "mean   16.778261\n",
      "std     1.114759\n",
      "min    14.500000\n",
      "25%    16.050000\n",
      "50%    16.900000\n",
      "75%    17.400000\n",
      "max    18.600000\n"
     ]
    }
   ],
   "source": [
    "\"\"\"Summary Statistics\"\"\"\n",
    "\n",
    "print(\"Neolithic Summary Stats:\")\n",
    "print(neo.describe())\n",
    "\n",
    "print()\n",
    "\n",
    "print(\"Mesolithic Summary Stats:\")\n",
    "print(meso.describe())"
   ]
  },
  {
   "cell_type": "code",
   "execution_count": 12,
   "metadata": {},
   "outputs": [
    {
     "data": {
      "image/png": "[encoded data removed]",
      "text/plain": [
       "<Figure size 432x288 with 1 Axes>"
      ]
     },
     "metadata": {
      "needs_background": "light"
     },
     "output_type": "display_data"
    }
   ],
   "source": [
    "\"\"\"BoxPlot\"\"\"\n",
    "\n",
    "boxplotdata = [neoLith, mesoLith]\n",
    "plt.boxplot(boxplotdata,notch = True , labels=['Neolithic Pigs','Mesolithic Pigs'])\n",
    "plt.show()"
   ]
  },
  {
   "cell_type": "code",
   "execution_count": 13,
   "metadata": {},
   "outputs": [
    {
     "data": {
      "text/plain": [
       "<function matplotlib.pyplot.show(*args, **kw)>"
      ]
     },
     "execution_count": 13,
     "metadata": {},
     "output_type": "execute_result"
    },
    {
     "data": {
      "image/png": "[encoded data removed]",
      "text/plain": [
       "<Figure size 432x288 with 1 Axes>"
      ]
     },
     "metadata": {
      "needs_background": "light"
     },
     "output_type": "display_data"
    }
   ],
   "source": [
    "plt.hist(neoLith, 15)\n",
    "plt.xlabel('Neolithic MTL')\n",
    "plt.ylabel('Occurrences')\n",
    "plt.show"
   ]
  },
  {
   "cell_type": "code",
   "execution_count": 14,
   "metadata": {},
   "outputs": [
    {
     "data": {
      "text/plain": [
       "<function matplotlib.pyplot.show(*args, **kw)>"
      ]
     },
     "execution_count": 14,
     "metadata": {},
     "output_type": "execute_result"
    },
    {
     "data": {
      "image/png": "[encoded data removed]",
      "text/plain": [
       "<Figure size 432x288 with 1 Axes>"
      ]
     },
     "metadata": {
      "needs_background": "light"
     },
     "output_type": "display_data"
    }
   ],
   "source": [
    "plt.hist(mesoLith, 12)\n",
    "plt.xlabel('Mesolithic MTL')\n",
    "plt.ylabel('Occurrences')\n",
    "plt.show"
   ]
  },
  {
   "cell_type": "code",
   "execution_count": 15,
   "metadata": {},
   "outputs": [
    {
     "name": "stdout",
     "output_type": "stream",
     "text": [
      "Neolithic\n",
      "NormaltestResult(statistic=2.9444446982859604, pvalue=0.22941507784349882)\n",
      "can not reject hypothosis of normality @ 23%\n",
      "\n",
      "Mesolithic\n",
      "NormaltestResult(statistic=0.788491559606371, pvalue=0.6741883339996482)\n",
      "can not reject hypothosis of normality @ 67%\n"
     ]
    }
   ],
   "source": [
    "\"\"\"Test for Normality in our distributions\n",
    "    Returns\n",
    "    \n",
    "        statisticfloat or array\n",
    "    \n",
    "            s^2 + k^2, where s is the z-score returned by skewtest and k is the z-score returned by kurtosistest.\n",
    "        pvaluefloat or array\n",
    "    \n",
    "            A 2-sided chi squared probability for the hypothesis test.\n",
    "\n",
    "https://docs.scipy.org/doc/scipy/reference/generated/scipy.stats.normaltest.html\n",
    "\"\"\"\n",
    "\n",
    "print(\"Neolithic\")\n",
    "print(scs.normaltest(neoLith))\n",
    "print(\"can not reject hypothosis of normality @ 23%\")\n",
    "print()\n",
    "print(\"Mesolithic\")\n",
    "print(scs.normaltest(mesoLith))\n",
    "print(\"can not reject hypothosis of normality @ 67%\")\n"
   ]
  },
  {
   "cell_type": "code",
   "execution_count": 16,
   "metadata": {},
   "outputs": [
    {
     "data": {
      "image/png": "[encoded data removed]",
      "text/plain": [
       "<Figure size 432x288 with 1 Axes>"
      ]
     },
     "metadata": {
      "needs_background": "light"
     },
     "output_type": "display_data"
    }
   ],
   "source": [
    "bins = np.linspace(13, 19, 18)\n",
    "\n",
    "plt.hist(neoLith, bins, alpha=0.5, label='Neolithic')\n",
    "plt.hist(mesoLith, bins, alpha=0.5, label='Mesolithic')\n",
    "plt.legend(loc='upper right')\n",
    "plt.xlabel('MTL in mm')\n",
    "plt.ylabel('Occurrences')\n",
    "\n",
    "plt.show()"
   ]
  },
  {
   "cell_type": "code",
   "execution_count": 17,
   "metadata": {},
   "outputs": [
    {
     "name": "stdout",
     "output_type": "stream",
     "text": [
      "Ttest_indResult(statistic=-10.025528650636977, pvalue=4.195433500599192e-11)\n",
      "Extremely unlikely these sample represent populaitons of the same mean\n"
     ]
    }
   ],
   "source": [
    "\"\"\"Welch's T test for equal mean because equal_var=False\n",
    "\n",
    "welches because we have significantly different stdevs\n",
    " Delacre, M., Lakens, D., & Leys, C. (2017). \n",
    " Why Psychologists Should by Default Use Welch’s t-test Instead of Student’s t-test. \n",
    " International Review of Social Psychology, 30(1), 92–101. DOI: http://doi.org/10.5334/irsp.82 \n",
    "\"\"\"\n",
    "\n",
    "print(scs.ttest_ind(neoLith, mesoLith, equal_var=False))\n",
    "\n",
    "print(\"Extremely unlikely these sample represent populaitons of the same mean\")"
   ]
  },
  {
   "cell_type": "code",
   "execution_count": 18,
   "metadata": {},
   "outputs": [
    {
     "name": "stdout",
     "output_type": "stream",
     "text": [
      "0.8704902867715079\n",
      "1.4807044479425713e-12\n",
      "Extremely unlikely these samples are taken from the same distribution\n"
     ]
    }
   ],
   "source": [
    "\"\"\"Two Sample Kolmogorov-Smirnov Test\"\"\"\n",
    "\n",
    "kStat,Kp = scs.ks_2samp(neoLith, mesoLith)\n",
    "\n",
    "print(kStat)\n",
    "print(Kp)\n",
    "print(\"\"\"Extremely unlikely these samples are taken from the same distribution\"\"\")"
   ]
  },
  {
   "cell_type": "code",
   "execution_count": null,
   "metadata": {},
   "outputs": [],
   "source": []
  }
 ],
 "metadata": {
  "kernelspec": {
   "display_name": "Python 3",
   "language": "python",
   "name": "python3"
  },
  "language_info": {
   "codemirror_mode": {
    "name": "ipython",
    "version": 3
   },
   "file_extension": ".py",
   "mimetype": "text/x-python",
   "name": "python",
   "nbconvert_exporter": "python",
   "pygments_lexer": "ipython3",
   "version": "3.7.4"
  }
 },
 "nbformat": 4,
 "nbformat_minor": 2
}
